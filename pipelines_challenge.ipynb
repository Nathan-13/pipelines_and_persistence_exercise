{
 "cells": [
  {
   "cell_type": "markdown",
   "metadata": {},
   "source": [
    "# UFO sightings\n",
    "\n",
    "## Data\n",
    "\n",
    "The original data are reports of 80+k UFO sightings from more than 50 years back, originally obtained from [here](https://github.com/planetsig/ufo-reports). We are already familiar with this data because we used it to practice different data preparation techniques. However, we put some information and background about the variables here as well.\n",
    "\n",
    "\n",
    "The data was enriched by weather data from the DarkSky API (this API is not available anymore but we have used similar service VirtualCrossing during the bootcamp) and by the data from NASA asteroid API available [here](https://api.nasa.gov/api.html#NeoWS).\n",
    "\n",
    "### Final data\n",
    "\n",
    "Please find and download complete data from [here](https://drive.google.com/file/d/0B2gZvn36c5CmRTJpS3pkUllmX1U)\n",
    "\n",
    "### Features\n",
    "\n",
    " * **'timestamp'** - timestamp of sighting\n",
    " * **'city'** - city of sighting\n",
    " * **'state'** - state of sighting\n",
    " * **'country'** - country of sighting\n",
    " * **'shape'** - shape of the UFO\n",
    " * **'duration_seconds'** - duration of sighting in seconds\n",
    " * **'duration_text'** - duration of sighitng as a word\n",
    " * **'notes'** - comment\n",
    " * **'date_reported'** - reported on \n",
    " * **'lat'** - latitude of sighting\n",
    " * **'lng'** - longitude of sighting\n",
    " \n",
    " #### DarkSky weather features\n",
    " \n",
    " * **'date_event'** - timestamp\n",
    " * **'apparentTemperature'** - real feel temp in Farenheit\n",
    " * **'cloudCover'** - % of sky covered by clouds\n",
    " * **'cloudCoverError'** - error of measurement\n",
    " * **'dewPoint'** - dew point in degrees Farenheit\n",
    " * **'dewPointError'** - error of measurement\n",
    " * **'humidity'** - humidity in percent\n",
    " * **'humidityError'** - error of measurement\n",
    " * **'icon'** - image characterizing the wheater\n",
    " * **'precipIntensity'** - intensity of precipitation\n",
    " * **'precipProbability'** - probability of precipitation\n",
    " * **'precipType'** - one of rain, snow or sleet\n",
    " * **'pressure'** - air pressure\n",
    " * **'pressureError'** - error of measurement\n",
    " * **'summary'** - human readable summary of weather\n",
    " * **'temperature'** - air temperature in Farenheit\n",
    " * **'temperatureError'** - error of measurement\n",
    " * **'time'** - timestamp of measurement\n",
    " * **'visibility'** - average visibility in miles\n",
    " * **'visibilityError'** - error of measurement\n",
    " * **'windBearing'** - wind bearing\n",
    " * **'windBearingError'** - error of measurement\n",
    " * **'windSpeed'** - wind speed\n",
    " * **'windSpeedError'** - error of measurement\n",
    " \n",
    " #### NASA Asteroid API\n",
    " \n",
    " * **'ast_absolute_magnitude_h'** - distance from earth at the time\n",
    " * **'ast_estimated_diameter'** - diameter of the asteroid\n",
    " * **'ast_is_dangerous'** - is potentially dangerous\n",
    " * **'ast_miss_distance'** - the closest distance to earth\n",
    " * **'ast_orbiting_body'** - what is orbiting body of this asteroid\n",
    " * **'ast_relative_velocity'** - relative speed of asteroid\n",
    " \n",
    "## Problem\n",
    " \n",
    "We will have one problem for regression and one for binary classification to test our skills on.\n",
    " \n",
    "### Regression\n",
    " \n",
    "Predict the **duration_in_seconds** of the UFO sighting given the predictors in the dataset."
   ]
  },
  {
   "cell_type": "code",
   "execution_count": null,
   "metadata": {},
   "outputs": [],
   "source": []
  },
  {
   "cell_type": "markdown",
   "metadata": {},
   "source": [
    "## Challenge"
   ]
  },
  {
   "cell_type": "markdown",
   "metadata": {},
   "source": [
    "**TASK 1**: Build Pipeline which will end with regression model to predict `duration_in_seconds` from the dataset. The pipeline should have following steps:\n",
    "\n",
    "- outlier detection\n",
    "- remove features with 0 variance\n",
    "- remove features with lots of missings\n",
    "- null value replacement\n",
    "- label encoder and one_hot_encoder on categorical features\n",
    "- PCA on weather features\n",
    "- select K Best from other features\n",
    "- Random Forest, Gradient Boosting regressor or Ridge Regression\n",
    "\n",
    "**TASK 2**: tune parameters of models as well as preprocessing steps"
   ]
  },
  {
   "cell_type": "code",
   "execution_count": null,
   "metadata": {},
   "outputs": [],
   "source": []
  },
  {
   "cell_type": "code",
   "execution_count": null,
   "metadata": {},
   "outputs": [],
   "source": []
  },
  {
   "cell_type": "code",
   "execution_count": null,
   "metadata": {},
   "outputs": [],
   "source": []
  },
  {
   "cell_type": "code",
   "execution_count": null,
   "metadata": {},
   "outputs": [],
   "source": []
  },
  {
   "cell_type": "code",
   "execution_count": null,
   "metadata": {},
   "outputs": [],
   "source": []
  }
 ],
 "metadata": {
  "anaconda-cloud": {},
  "kernelspec": {
   "display_name": "Python 3",
   "language": "python",
   "name": "python3"
  },
  "language_info": {
   "codemirror_mode": {
    "name": "ipython",
    "version": 3
   },
   "file_extension": ".py",
   "mimetype": "text/x-python",
   "name": "python",
   "nbconvert_exporter": "python",
   "pygments_lexer": "ipython3",
   "version": "3.7.6"
  }
 },
 "nbformat": 4,
 "nbformat_minor": 4
}
